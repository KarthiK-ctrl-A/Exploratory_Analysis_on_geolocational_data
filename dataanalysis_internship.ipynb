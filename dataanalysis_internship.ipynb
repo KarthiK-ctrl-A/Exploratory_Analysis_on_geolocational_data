{
  "cells": [
    {
      "cell_type": "code",
      "execution_count": null,
      "metadata": {
        "id": "WrjP4KhrZMxo",
        "colab": {
          "base_uri": "https://localhost:8080/"
        },
        "outputId": "128cedc5-27a9-4a9b-9cd7-6af2abc68a2b"
      },
      "outputs": [
        {
          "output_type": "stream",
          "name": "stdout",
          "text": [
            "\u001b[?25l\r\u001b[K     |████▊                           | 10 kB 22.2 MB/s eta 0:00:01\r\u001b[K     |█████████▌                      | 20 kB 12.2 MB/s eta 0:00:01\r\u001b[K     |██████████████▎                 | 30 kB 8.8 MB/s eta 0:00:01\r\u001b[K     |███████████████████             | 40 kB 3.8 MB/s eta 0:00:01\r\u001b[K     |███████████████████████▉        | 51 kB 3.8 MB/s eta 0:00:01\r\u001b[K     |████████████████████████████▋   | 61 kB 4.4 MB/s eta 0:00:01\r\u001b[K     |████████████████████████████████| 68 kB 2.8 MB/s \n",
            "\u001b[?25h  Building wheel for uuid (setup.py) ... \u001b[?25l\u001b[?25hdone\n"
          ]
        }
      ],
      "source": [
        "# Jovian Commit Essentials\n",
        "# Please retain and execute this cell without modifying the contents for `jovian.commit` to work\n",
        "!pip install jovian --upgrade -q\n",
        "import jovian\n",
        "jovian.set_project('dataanalysis-internship')\n",
        "jovian.set_colab_id('1EfRzY6RW_Q6_O9R0tO5XR1bbmPFc5KMi')"
      ]
    },
    {
      "cell_type": "markdown",
      "metadata": {
        "id": "slyfKt0nZMyI"
      },
      "source": [
        "# dataanalysis-internship\n",
        "  1. Load the Dataset into colab\n",
        "  2. Explore the codebook file and understand the columns and data types of each columns 3.Understand and perform data cleaning operations on the data set"
      ]
    },
    {
      "cell_type": "code",
      "execution_count": null,
      "metadata": {
        "id": "x2og78ozZMya"
      },
      "outputs": [],
      "source": [
        "!pip install jovian --upgrade --quiet"
      ]
    },
    {
      "cell_type": "code",
      "execution_count": null,
      "metadata": {
        "id": "3cTvL7ROZMyj"
      },
      "outputs": [],
      "source": [
        "import jovian"
      ]
    },
    {
      "cell_type": "code",
      "execution_count": null,
      "metadata": {
        "colab": {
          "base_uri": "https://localhost:8080/",
          "height": 122
        },
        "id": "A21GlKgmZMyo",
        "outputId": "04f415f9-a821-41dd-f4e9-9821fa1245d5"
      },
      "outputs": [
        {
          "output_type": "stream",
          "name": "stdout",
          "text": [
            "[jovian] Detected Colab notebook...\u001b[0m\n",
            "[jovian] Please enter your API key ( from https://jovian.ai/ ):\u001b[0m\n",
            "API KEY: ··········\n",
            "[jovian] Uploading colab notebook to Jovian...\u001b[0m\n",
            "Committed successfully! https://jovian.ai/karthik-ctrl-a/dataanalysis-internship\n"
          ]
        },
        {
          "output_type": "execute_result",
          "data": {
            "application/vnd.google.colaboratory.intrinsic+json": {
              "type": "string"
            },
            "text/plain": [
              "'https://jovian.ai/karthik-ctrl-a/dataanalysis-internship'"
            ]
          },
          "metadata": {},
          "execution_count": 5
        }
      ],
      "source": [
        "# Execute this to save new versions of the notebook\n",
        "jovian.commit(project=\"dataanalysis-internship\")"
      ]
    },
    {
      "cell_type": "markdown",
      "source": [
        "## Exploratory Data Analysis"
      ],
      "metadata": {
        "id": "fKVvh4xjZhJr"
      }
    },
    {
      "cell_type": "markdown",
      "source": [
        "# Task - 1\n",
        " 1. Load the Dataset into colab\n",
        " 2. Explore the codebook file and understand the columns and data types of each columns\n",
        " 3.Understand and perform data cleaning operations on the data set\n",
        " \n",
        "\n"
      ],
      "metadata": {
        "id": "t_46OQPtaALe"
      }
    },
    {
      "cell_type": "code",
      "execution_count": null,
      "metadata": {
        "id": "CK4KuWy8ZMyw"
      },
      "outputs": [],
      "source": [
        "pip install opendatasets --upgrade --quiet"
      ]
    },
    {
      "cell_type": "code",
      "source": [
        "import opendatasets as od\n",
        "\n",
        "dataset_url = 'https://www.kaggle.com/borapajo/food-choices?select=food_coded.csv'\n",
        "od.download(dataset_url)"
      ],
      "metadata": {
        "colab": {
          "base_uri": "https://localhost:8080/"
        },
        "id": "9owjMzYha2ZT",
        "outputId": "e7922271-0628-4dc7-a490-130e0b1c77fa"
      },
      "execution_count": null,
      "outputs": [
        {
          "output_type": "stream",
          "name": "stdout",
          "text": [
            "Please provide your Kaggle credentials to download this dataset. Learn more: http://bit.ly/kaggle-creds\n",
            "Your Kaggle username: saikarthikpatri\n",
            "Your Kaggle Key: "
          ]
        }
      ]
    },
    {
      "cell_type": "code",
      "source": [
        "data_file = './food-choices/food_coded.csv'"
      ],
      "metadata": {
        "id": "idiAfZ4bbu2w"
      },
      "execution_count": null,
      "outputs": []
    },
    {
      "cell_type": "markdown",
      "source": [
        "- Data Cleaning and Preprocessing"
      ],
      "metadata": {
        "id": "M1ITuYNHdTVa"
      }
    },
    {
      "cell_type": "code",
      "source": [
        "import numpy as np \n",
        "from tabulate import tabulate\n",
        "import pandas as pd \n",
        "from sklearn.cluster import KMeans\n",
        "import random\n",
        "import seaborn as sns\n",
        "%matplotlib inline\n",
        "import matplotlib.pyplot as plt "
      ],
      "metadata": {
        "id": "Dfdo6LoydOta"
      },
      "execution_count": null,
      "outputs": []
    },
    {
      "cell_type": "code",
      "source": [
        "df1 = pd.read_csv(data_file)"
      ],
      "metadata": {
        "id": "4DsZLRnA1O7w"
      },
      "execution_count": null,
      "outputs": []
    },
    {
      "cell_type": "code",
      "source": [
        "df1 = pd.read_csv(data_file)\n",
        "df=df1[[\"cook\",\"diet_current_coded\",\"eating_out\",\"sports\",\"exercise\",\"fav_cuisine_coded\",\"on_off_campus\",\"pay_meal_out\",\"fav_food\",\"fruit_day\",\"income\"]]\n",
        "df.dropna(axis=0,inplace=True)\n",
        "df.to_csv('./food-choices/food_choices.csv')"
      ],
      "metadata": {
        "colab": {
          "base_uri": "https://localhost:8080/"
        },
        "id": "F3Ay93T11SMr",
        "outputId": "8403cbde-ba57-4d42-9dd1-da0da1b8145f"
      },
      "execution_count": null,
      "outputs": [
        {
          "output_type": "stream",
          "name": "stderr",
          "text": [
            "/usr/local/lib/python3.7/dist-packages/pandas/util/_decorators.py:311: SettingWithCopyWarning: \n",
            "A value is trying to be set on a copy of a slice from a DataFrame\n",
            "\n",
            "See the caveats in the documentation: https://pandas.pydata.org/pandas-docs/stable/user_guide/indexing.html#returning-a-view-versus-a-copy\n",
            "  return func(*args, **kwargs)\n"
          ]
        }
      ]
    },
    {
      "cell_type": "code",
      "source": [
        "print(tabulate(df,headers = 'keys', tablefmt = 'psql'))"
      ],
      "metadata": {
        "colab": {
          "base_uri": "https://localhost:8080/"
        },
        "id": "izLeXdVf1UkW",
        "outputId": "72799074-db90-4441-a3ee-241727446508"
      },
      "execution_count": null,
      "outputs": [
        {
          "output_type": "stream",
          "name": "stdout",
          "text": [
            "+-----+--------+----------------------+--------------+----------+------------+---------------------+-----------------+----------------+------------+-------------+----------+\n",
            "|     |   cook |   diet_current_coded |   eating_out |   sports |   exercise |   fav_cuisine_coded |   on_off_campus |   pay_meal_out |   fav_food |   fruit_day |   income |\n",
            "|-----+--------+----------------------+--------------+----------+------------+---------------------+-----------------+----------------+------------+-------------+----------|\n",
            "|   0 |      2 |                    1 |            3 |        1 |          1 |                   3 |               1 |              2 |          1 |           5 |        5 |\n",
            "|   1 |      3 |                    2 |            2 |        1 |          1 |                   1 |               1 |              4 |          1 |           4 |        4 |\n",
            "|   2 |      1 |                    3 |            2 |        2 |          2 |                   1 |               2 |              3 |          3 |           5 |        6 |\n",
            "|   3 |      2 |                    2 |            2 |        2 |          3 |                   3 |               1 |              2 |          1 |           4 |        6 |\n",
            "|   4 |      1 |                    2 |            2 |        1 |          1 |                   1 |               1 |              4 |          3 |           4 |        6 |\n",
            "|   5 |      3 |                    2 |            1 |        2 |          2 |                   6 |               1 |              5 |          3 |           2 |        1 |\n",
            "|   6 |      2 |                    3 |            2 |        1 |          1 |                   4 |               2 |              2 |          1 |           4 |        4 |\n",
            "|   7 |      3 |                    1 |            2 |        2 |          2 |                   5 |               1 |              5 |          1 |           5 |        5 |\n",
            "|   9 |      3 |                    1 |            3 |        1 |          1 |                   1 |               1 |              3 |          1 |           5 |        4 |\n",
            "|  10 |      1 |                    1 |            2 |        1 |          1 |                   4 |               3 |              2 |          1 |           5 |        3 |\n",
            "|  11 |      3 |                    1 |            1 |        1 |          1 |                   1 |               1 |              3 |          1 |           5 |        5 |\n",
            "|  12 |      5 |                    1 |            1 |        1 |          3 |                   4 |               1 |              2 |          3 |           4 |        5 |\n",
            "|  13 |      2 |                    2 |            4 |        1 |          2 |                   1 |               2 |              3 |          1 |           5 |        5 |\n",
            "|  14 |      3 |                    1 |            2 |        1 |          2 |                   4 |               2 |              3 |          3 |           5 |        5 |\n",
            "|  15 |      4 |                    2 |            4 |        1 |          1 |                   1 |               1 |              3 |          2 |           3 |        4 |\n",
            "|  16 |      3 |                    1 |            1 |        2 |          2 |                   7 |               1 |              2 |          1 |           5 |        1 |\n",
            "|  17 |      3 |                    3 |            2 |        1 |          1 |                   5 |               1 |              6 |          3 |           3 |        6 |\n",
            "|  18 |      3 |                    1 |            3 |        2 |          3 |                   5 |               1 |              2 |          3 |           5 |        5 |\n",
            "|  20 |      5 |                    2 |            4 |        1 |          1 |                   2 |               1 |              2 |          3 |           2 |        6 |\n",
            "|  21 |      3 |                    2 |            1 |        1 |          1 |                   8 |               1 |              5 |          2 |           3 |        6 |\n",
            "|  22 |      5 |                    1 |            1 |        1 |          1 |                   1 |               1 |              5 |          1 |           4 |        6 |\n",
            "|  23 |      4 |                    1 |            2 |        1 |          3 |                   4 |               1 |              3 |          1 |           3 |        4 |\n",
            "|  25 |      3 |                    1 |            2 |        1 |          1 |                   0 |               1 |              3 |          3 |           4 |        6 |\n",
            "|  26 |      3 |                    1 |            2 |        1 |          1 |                   1 |               1 |              4 |          1 |           3 |        5 |\n",
            "|  27 |      4 |                    1 |            2 |        1 |          1 |                   2 |               1 |              6 |          1 |           5 |        6 |\n",
            "|  28 |      2 |                    2 |            2 |        2 |          2 |                   1 |               1 |              3 |          1 |           3 |        5 |\n",
            "|  29 |      3 |                    2 |            5 |        2 |          2 |                   8 |               1 |              4 |          1 |           5 |        5 |\n",
            "|  30 |      3 |                    1 |            3 |        1 |          2 |                   2 |               3 |              3 |          2 |           3 |        5 |\n",
            "|  31 |      2 |                    2 |            2 |        2 |          2 |                   1 |               4 |              3 |          1 |           5 |        4 |\n",
            "|  33 |      4 |                    2 |            2 |        2 |          3 |                   1 |               1 |              3 |          1 |           3 |        3 |\n",
            "|  34 |      4 |                    2 |            3 |        1 |          1 |                   1 |               1 |              4 |          3 |           5 |        6 |\n",
            "|  35 |      1 |                    3 |            2 |        1 |          1 |                   5 |               2 |              3 |          1 |           5 |        4 |\n",
            "|  36 |      3 |                    2 |            4 |        1 |          1 |                   1 |               1 |              3 |          3 |           5 |        6 |\n",
            "|  37 |      2 |                    2 |            2 |        1 |          3 |                   1 |               1 |              4 |          1 |           3 |        6 |\n",
            "|  38 |      3 |                    1 |            2 |        1 |          2 |                   1 |               1 |              3 |          1 |           4 |        5 |\n",
            "|  39 |      5 |                    2 |            5 |        1 |          1 |                   2 |               2 |              3 |          1 |           5 |        6 |\n",
            "|  40 |      3 |                    3 |            2 |        1 |          1 |                   1 |               1 |              3 |          1 |           3 |        6 |\n",
            "|  41 |      2 |                    4 |            4 |        2 |          1 |                   1 |               1 |              3 |          1 |           5 |        3 |\n",
            "|  44 |      1 |                    1 |            2 |        1 |          1 |                   4 |               2 |              6 |          1 |           5 |        5 |\n",
            "|  46 |      3 |                    2 |            2 |        1 |          2 |                   1 |               1 |              3 |          1 |           4 |        4 |\n",
            "|  47 |      4 |                    2 |            2 |        1 |          1 |                   1 |               1 |              3 |          3 |           5 |        6 |\n",
            "|  48 |      4 |                    2 |            2 |        1 |          1 |                   4 |               1 |              3 |          1 |           5 |        5 |\n",
            "|  49 |      3 |                    2 |            2 |        2 |          2 |                   1 |               1 |              6 |          1 |           3 |        3 |\n",
            "|  50 |      5 |                    1 |            2 |        2 |          1 |                   5 |               3 |              3 |          2 |           4 |        1 |\n",
            "|  51 |      3 |                    4 |            3 |        1 |          1 |                   0 |               1 |              3 |          1 |           5 |        6 |\n",
            "|  52 |      1 |                    3 |            5 |        1 |          1 |                   2 |               1 |              3 |          1 |           5 |        5 |\n",
            "|  54 |      1 |                    1 |            3 |        1 |          1 |                   1 |               1 |              6 |          1 |           5 |        6 |\n",
            "|  55 |      3 |                    2 |            5 |        1 |          1 |                   1 |               1 |              2 |          1 |           4 |        3 |\n",
            "|  56 |      3 |                    1 |            4 |        1 |          1 |                   4 |               2 |              4 |          1 |           5 |        6 |\n",
            "|  57 |      2 |                    1 |            3 |        1 |          1 |                   5 |               1 |              3 |          3 |           4 |        5 |\n",
            "|  58 |      1 |                    3 |            2 |        1 |          2 |                   2 |               2 |              4 |          1 |           5 |        5 |\n",
            "|  60 |      2 |                    1 |            5 |        1 |          1 |                   2 |               1 |              3 |          1 |           5 |        6 |\n",
            "|  61 |      2 |                    1 |            2 |        2 |          2 |                   2 |               3 |              2 |          2 |           3 |        4 |\n",
            "|  62 |      3 |                    1 |            5 |        1 |          1 |                   1 |               1 |              3 |          1 |           4 |        6 |\n",
            "|  63 |      3 |                    1 |            4 |        1 |          1 |                   1 |               1 |              3 |          1 |           5 |        5 |\n",
            "|  64 |      1 |                    1 |            3 |        1 |          1 |                   4 |               1 |              2 |          3 |           5 |        2 |\n",
            "|  65 |      2 |                    2 |            3 |        2 |          2 |                   1 |               1 |              5 |          3 |           3 |        6 |\n",
            "|  67 |      4 |                    2 |            3 |        1 |          2 |                   1 |               1 |              4 |          1 |           5 |        5 |\n",
            "|  68 |      3 |                    1 |            1 |        1 |          1 |                   1 |               1 |              4 |          1 |           5 |        6 |\n",
            "|  69 |      2 |                    2 |            2 |        2 |          2 |                   1 |               2 |              3 |          1 |           3 |        6 |\n",
            "|  70 |      3 |                    1 |            1 |        1 |          2 |                   1 |               1 |              3 |          1 |           5 |        3 |\n",
            "|  71 |      2 |                    1 |            1 |        1 |          1 |                   1 |               1 |              6 |          1 |           5 |        5 |\n",
            "|  72 |      3 |                    2 |            1 |        2 |          2 |                   0 |               1 |              2 |          2 |           5 |        5 |\n",
            "|  73 |      1 |                    2 |            4 |        1 |          1 |                   2 |               3 |              3 |          1 |           3 |        6 |\n",
            "|  74 |      2 |                    4 |            1 |        2 |          2 |                   0 |               2 |              5 |          2 |           4 |        3 |\n",
            "|  75 |      3 |                    1 |            2 |        2 |          1 |                   1 |               1 |              4 |          1 |           5 |        5 |\n",
            "|  76 |      2 |                    2 |            2 |        1 |          2 |                   5 |               2 |              3 |          3 |           4 |        3 |\n",
            "|  77 |      2 |                    2 |            2 |        1 |          2 |                   5 |               1 |              3 |          2 |           3 |        3 |\n",
            "|  78 |      2 |                    3 |            2 |        1 |          1 |                   4 |               1 |              3 |          1 |           5 |        5 |\n",
            "|  79 |      5 |                    2 |            1 |        1 |          1 |                   4 |               1 |              3 |          1 |           5 |        6 |\n",
            "|  80 |      3 |                    2 |            3 |        2 |          2 |                   1 |               1 |              3 |          3 |           3 |        4 |\n",
            "|  81 |      3 |                    2 |            3 |        1 |          1 |                   1 |               1 |              5 |          1 |           4 |        4 |\n",
            "|  84 |      1 |                    1 |            2 |        1 |          1 |                   2 |               1 |              3 |          3 |           5 |        5 |\n",
            "|  85 |      3 |                    3 |            3 |        2 |          3 |                   4 |               1 |              3 |          3 |           5 |        6 |\n",
            "|  86 |      2 |                    1 |            1 |        1 |          2 |                   4 |               1 |              3 |          3 |           5 |        6 |\n",
            "|  87 |      4 |                    2 |            2 |        1 |          1 |                   5 |               1 |              3 |          2 |           4 |        6 |\n",
            "|  89 |      3 |                    2 |            2 |        2 |          1 |                   4 |               1 |              3 |          1 |           5 |        3 |\n",
            "|  90 |      4 |                    1 |            2 |        1 |          1 |                   1 |               1 |              4 |          1 |           5 |        6 |\n",
            "|  91 |      2 |                    2 |            3 |        2 |          2 |                   5 |               2 |              3 |          3 |           2 |        6 |\n",
            "|  92 |      2 |                    2 |            5 |        1 |          3 |                   5 |               1 |              3 |          1 |           1 |        3 |\n",
            "|  93 |      4 |                    2 |            2 |        2 |          3 |                   1 |               1 |              4 |          1 |           4 |        4 |\n",
            "|  94 |      2 |                    1 |            2 |        1 |          1 |                   1 |               1 |              3 |          1 |           5 |        6 |\n",
            "|  95 |      3 |                    2 |            2 |        1 |          1 |                   5 |               1 |              3 |          3 |           4 |        5 |\n",
            "|  96 |      2 |                    2 |            2 |        2 |          2 |                   1 |               1 |              3 |          3 |           3 |        6 |\n",
            "|  97 |      3 |                    1 |            2 |        1 |          1 |                   1 |               1 |              5 |          1 |           5 |        5 |\n",
            "| 100 |      3 |                    1 |            2 |        1 |          2 |                   1 |               1 |              2 |          1 |           5 |        2 |\n",
            "| 101 |      3 |                    2 |            2 |        2 |          3 |                   4 |               1 |              2 |          3 |           5 |        5 |\n",
            "| 103 |      2 |                    1 |            2 |        2 |          2 |                   8 |               1 |              3 |          1 |           5 |        4 |\n",
            "| 105 |      3 |                    2 |            3 |        1 |          2 |                   1 |               2 |              5 |          3 |           3 |        4 |\n",
            "| 106 |      2 |                    1 |            5 |        2 |          2 |                   4 |               1 |              3 |          1 |           5 |        1 |\n",
            "| 107 |      2 |                    1 |            2 |        2 |          1 |                   1 |               1 |              3 |          3 |           4 |        4 |\n",
            "| 108 |      5 |                    1 |            2 |        1 |          1 |                   1 |               1 |              3 |          2 |           5 |        6 |\n",
            "| 109 |      2 |                    2 |            3 |        2 |          3 |                   1 |               1 |              3 |          2 |           4 |        6 |\n",
            "| 110 |      3 |                    2 |            4 |        1 |          2 |                   1 |               2 |              4 |          1 |           3 |        3 |\n",
            "| 111 |      2 |                    1 |            2 |        2 |          2 |                   0 |               3 |              6 |          1 |           3 |        5 |\n",
            "| 112 |      1 |                    1 |            4 |        2 |          1 |                   1 |               1 |              3 |          3 |           5 |        6 |\n",
            "| 113 |      2 |                    2 |            3 |        2 |          2 |                   1 |               1 |              3 |          1 |           4 |        6 |\n",
            "| 114 |      3 |                    2 |            3 |        1 |          2 |                   4 |               1 |              5 |          3 |           4 |        3 |\n",
            "| 115 |      4 |                    2 |            2 |        1 |          1 |                   0 |               1 |              5 |          3 |           5 |        6 |\n",
            "| 116 |      3 |                    2 |            4 |        2 |          2 |                   4 |               1 |              3 |          2 |           5 |        1 |\n",
            "| 118 |      3 |                    2 |            2 |        2 |          2 |                   5 |               3 |              4 |          1 |           5 |        3 |\n",
            "| 119 |      2 |                    2 |            2 |        1 |          2 |                   8 |               1 |              3 |          3 |           5 |        2 |\n",
            "| 120 |      3 |                    2 |            2 |        1 |          2 |                   1 |               3 |              4 |          1 |           5 |        4 |\n",
            "| 122 |      3 |                    2 |            3 |        2 |          2 |                   4 |               1 |              4 |          1 |           4 |        2 |\n",
            "| 123 |      3 |                    1 |            5 |        2 |          1 |                   1 |               1 |              3 |          3 |           5 |        4 |\n",
            "+-----+--------+----------------------+--------------+----------+------------+---------------------+-----------------+----------------+------------+-------------+----------+\n"
          ]
        }
      ]
    },
    {
      "cell_type": "markdown",
      "source": [
        "# Task - 2\n",
        "\n",
        "- Data visualization and exploration"
      ],
      "metadata": {
        "id": "aek_zf7NNF74"
      }
    },
    {
      "cell_type": "code",
      "source": [
        "sns.boxplot(data=df, palette=\"Set1\").tick_params(labelsize=8.7)\n",
        "plt.xticks(rotation=45, ha='right')\n",
        "plt.show()"
      ],
      "metadata": {
        "colab": {
          "base_uri": "https://localhost:8080/",
          "height": 321
        },
        "id": "qfs-08fn1YPY",
        "outputId": "10676d98-4a83-4835-d896-fe51dc82044a"
      },
      "execution_count": null,
      "outputs": [
        {
          "output_type": "display_data",
          "data": {
            "image/png": "[encoded data removed]",
            "text/plain": [
              "<Figure size 432x288 with 1 Axes>"
            ]
          },
          "metadata": {
            "needs_background": "light"
          }
        }
      ]
    },
    {
      "cell_type": "markdown",
      "source": [
        "# Task - 3\n",
        "\n",
        "- Run Kmeans clustering on the cleaned dataset and obtain the optimal number of clusters"
      ],
      "metadata": {
        "id": "VfmlSPlXNX3a"
      }
    },
    {
      "cell_type": "code",
      "source": [
        "k = 3\n",
        "kmeans = KMeans(n_clusters = k, random_state=0).fit(df)\n",
        "df['Cluster']=kmeans.labels_"
      ],
      "metadata": {
        "colab": {
          "base_uri": "https://localhost:8080/"
        },
        "id": "ktOPIIJJ1jAh",
        "outputId": "fe1aab98-3e23-4e98-8818-885393b0e93c"
      },
      "execution_count": null,
      "outputs": [
        {
          "output_type": "stream",
          "name": "stderr",
          "text": [
            "/usr/local/lib/python3.7/dist-packages/ipykernel_launcher.py:3: SettingWithCopyWarning: \n",
            "A value is trying to be set on a copy of a slice from a DataFrame.\n",
            "Try using .loc[row_indexer,col_indexer] = value instead\n",
            "\n",
            "See the caveats in the documentation: https://pandas.pydata.org/pandas-docs/stable/user_guide/indexing.html#returning-a-view-versus-a-copy\n",
            "  This is separate from the ipykernel package so we can avoid doing imports until\n"
          ]
        }
      ]
    },
    {
      "cell_type": "code",
      "source": [
        "fig, axes = plt.subplots(1, k, sharey=True)\n",
        "axes[0].set_ylabel('Coded Values', fontsize=20)\n",
        "\n",
        "for i in range(k):\n",
        "     plt.sca(axes[i])\n",
        "     plt.xticks(rotation=45,ha='right')\n",
        "     sns.boxplot(palette=\"Set1\",data = df[df['Cluster'] == i].drop('Cluster',1), ax=axes[i]).tick_params(labelsize=8.7)\n",
        "        \n",
        "plt.show()"
      ],
      "metadata": {
        "colab": {
          "base_uri": "https://localhost:8080/",
          "height": 445
        },
        "id": "c7MKbosY71Db",
        "outputId": "e221f9e8-eae6-4e47-cf65-874d1256af20"
      },
      "execution_count": 206,
      "outputs": [
        {
          "output_type": "stream",
          "name": "stderr",
          "text": [
            "/usr/local/lib/python3.7/dist-packages/ipykernel_launcher.py:7: FutureWarning: In a future version of pandas all arguments of DataFrame.drop except for the argument 'labels' will be keyword-only\n",
            "  import sys\n",
            "/usr/local/lib/python3.7/dist-packages/ipykernel_launcher.py:7: FutureWarning: In a future version of pandas all arguments of DataFrame.drop except for the argument 'labels' will be keyword-only\n",
            "  import sys\n",
            "/usr/local/lib/python3.7/dist-packages/ipykernel_launcher.py:7: FutureWarning: In a future version of pandas all arguments of DataFrame.drop except for the argument 'labels' will be keyword-only\n",
            "  import sys\n"
          ]
        },
        {
          "output_type": "display_data",
          "data": {
            "image/png": "[encoded data removed]",
            "text/plain": [
              "<Figure size 432x288 with 3 Axes>"
            ]
          },
          "metadata": {
            "needs_background": "light"
          }
        }
      ]
    },
    {
      "cell_type": "markdown",
      "source": [
        "# Task - 4&5\n",
        "\n",
        "- Get geolocational data using Foursquare or HERE GEO API\n",
        "- Clean the data set obtained from the API\n",
        "- perform Data cleaning operation\n",
        "- using folium plot on the graph"
      ],
      "metadata": {
        "id": "lc9fpfeGNnV8"
      }
    },
    {
      "cell_type": "code",
      "source": [
        "import json  \n",
        "import pandas as pd  \n",
        "from pandas.io.json import json_normalize  \n",
        "import requests\n",
        "from tabulate import tabulate\n",
        "from sklearn.cluster import KMeans\n",
        "import random\n",
        "import numpy as np\n",
        "import pandas as pd\n",
        "import folium\n",
        "\n"
      ],
      "metadata": {
        "id": "_V6y8nM-8BIc"
      },
      "execution_count": null,
      "outputs": []
    },
    {
      "cell_type": "code",
      "source": [
        "url = 'https://discover.search.hereapi.com/v1/discover?in=circle:19.1334,72.9133;r=10000&q=apartment&apiKey=uJHMEjeagmFGldXp661-pDMf4R-PxvWIu7I68UjYC5Q'\n",
        "data = requests.get(url).json()\n",
        "d=json_normalize(data['items'])\n",
        "d.to_csv('food-choices/apartment.csv')"
      ],
      "metadata": {
        "colab": {
          "base_uri": "https://localhost:8080/"
        },
        "id": "ejTVUPUU-xY2",
        "outputId": "20949193-9fb3-4034-82e7-97789ef0fbf1"
      },
      "execution_count": null,
      "outputs": [
        {
          "output_type": "stream",
          "name": "stderr",
          "text": [
            "/usr/local/lib/python3.7/dist-packages/ipykernel_launcher.py:3: FutureWarning: pandas.io.json.json_normalize is deprecated, use pandas.json_normalize instead\n",
            "  This is separate from the ipykernel package so we can avoid doing imports until\n"
          ]
        }
      ]
    },
    {
      "cell_type": "code",
      "source": [
        "d2=d[['title','address.label','distance','access','position.lat','position.lng','address.postalCode','contacts','id']]\n",
        "d2.to_csv('food-choices/cleaned_apartment.csv')"
      ],
      "metadata": {
        "id": "AkMl1usjG5h5"
      },
      "execution_count": null,
      "outputs": []
    },
    {
      "cell_type": "code",
      "source": [
        "df_final=d2[['position.lat','position.lng']]"
      ],
      "metadata": {
        "id": "79Ru8DC6HDWT"
      },
      "execution_count": null,
      "outputs": []
    },
    {
      "cell_type": "code",
      "source": [
        "CafeList=[]\n",
        "DepList=[]\n",
        "GymList=[]\n",
        "latitudes = list(d2['position.lat'])\n",
        "longitudes = list( d2['position.lng'])\n",
        "for lat, lng in zip(latitudes, longitudes):    \n",
        "    radius = '1000' #Set the radius to 1000 metres\n",
        "    latitude=lat\n",
        "    longitude=lng\n",
        "    \n",
        "    search_query = 'cafe' #Search for any cafes\n",
        "    url = 'https://discover.search.hereapi.com/v1/discover?in=circle:{},{};r={}&q={}&apiKey=uJHMEjeagmFGldXp661-pDMf4R-PxvWIu7I68UjYC5Q'.format(latitude, longitude, radius, search_query)\n",
        "    results = requests.get(url).json()\n",
        "    venues=json_normalize(results['items'])\n",
        "    CafeList.append(venues['title'].count())\n",
        "\t\n",
        "    search_query = 'gym' #Search for any gyms\n",
        "    url = 'https://discover.search.hereapi.com/v1/discover?in=circle:{},{};r={}&q={}&apiKey=uJHMEjeagmFGldXp661-pDMf4R-PxvWIu7I68UjYC5Q'.format(latitude, longitude, radius, search_query)\n",
        "    results = requests.get(url).json()\n",
        "    venues=json_normalize(results['items'])\n",
        "    GymList.append(venues['title'].count())\n",
        "\n",
        "    \n",
        "\n",
        "df_final['Cafes'] = CafeList\n",
        "\n",
        "df_final['Gyms'] = GymList"
      ],
      "metadata": {
        "id": "rZsuXsHMHGW2",
        "outputId": "756b29e0-760e-4862-92f0-c071969b1eaa",
        "colab": {
          "base_uri": "https://localhost:8080/"
        }
      },
      "execution_count": null,
      "outputs": [
        {
          "output_type": "stream",
          "name": "stderr",
          "text": [
            "/usr/local/lib/python3.7/dist-packages/ipykernel_launcher.py:14: FutureWarning: pandas.io.json.json_normalize is deprecated, use pandas.json_normalize instead\n",
            "  \n",
            "/usr/local/lib/python3.7/dist-packages/ipykernel_launcher.py:20: FutureWarning: pandas.io.json.json_normalize is deprecated, use pandas.json_normalize instead\n",
            "/usr/local/lib/python3.7/dist-packages/ipykernel_launcher.py:25: SettingWithCopyWarning: \n",
            "A value is trying to be set on a copy of a slice from a DataFrame.\n",
            "Try using .loc[row_indexer,col_indexer] = value instead\n",
            "\n",
            "See the caveats in the documentation: https://pandas.pydata.org/pandas-docs/stable/user_guide/indexing.html#returning-a-view-versus-a-copy\n",
            "/usr/local/lib/python3.7/dist-packages/ipykernel_launcher.py:27: SettingWithCopyWarning: \n",
            "A value is trying to be set on a copy of a slice from a DataFrame.\n",
            "Try using .loc[row_indexer,col_indexer] = value instead\n",
            "\n",
            "See the caveats in the documentation: https://pandas.pydata.org/pandas-docs/stable/user_guide/indexing.html#returning-a-view-versus-a-copy\n"
          ]
        }
      ]
    },
    {
      "cell_type": "code",
      "source": [
        "print(tabulate(df_final,headers='keys',tablefmt='github'))"
      ],
      "metadata": {
        "id": "_jz8m7SIHJm4",
        "colab": {
          "base_uri": "https://localhost:8080/"
        },
        "outputId": "54292bee-0bec-44a5-b6d5-12ca3747f3ec"
      },
      "execution_count": null,
      "outputs": [
        {
          "output_type": "stream",
          "name": "stdout",
          "text": [
            "|    |   position.lat |   position.lng |   Cafes |   Gyms |\n",
            "|----|----------------|----------------|---------|--------|\n",
            "|  0 |        19.1255 |        72.9193 |       8 |     20 |\n",
            "|  1 |        19.1234 |        72.9127 |      20 |     20 |\n",
            "|  2 |        19.1193 |        72.9123 |      19 |     20 |\n",
            "|  3 |        19.1175 |        72.8837 |       9 |     20 |\n",
            "|  4 |        19.1627 |        72.9329 |       3 |      7 |\n",
            "|  5 |        19.096  |        72.9136 |      13 |     16 |\n",
            "|  6 |        19.1117 |        72.8751 |      17 |     20 |\n",
            "|  7 |        19.1665 |        72.9558 |       5 |     20 |\n",
            "|  8 |        19.0781 |        72.9117 |      15 |     20 |\n",
            "|  9 |        19.1718 |        72.9557 |       6 |     20 |\n",
            "| 10 |        19.1628 |        72.8579 |       5 |     16 |\n",
            "| 11 |        19.124  |        72.8468 |      11 |     20 |\n",
            "| 12 |        19.1462 |        72.8459 |       3 |      9 |\n",
            "| 13 |        19.1078 |        72.8491 |      15 |     20 |\n",
            "| 14 |        19.0962 |        72.8542 |      14 |     16 |\n",
            "| 15 |        19.0644 |        72.9185 |       1 |     14 |\n",
            "| 16 |        19.1019 |        72.8455 |      20 |     20 |\n",
            "| 17 |        19.1489 |        72.8393 |      17 |     20 |\n",
            "| 18 |        19.1489 |        72.839  |      17 |     20 |\n",
            "| 19 |        19.1251 |        72.9898 |       1 |      3 |\n"
          ]
        }
      ]
    },
    {
      "cell_type": "code",
      "source": [
        "kclusters = 3\n",
        "\n",
        "kmeans = KMeans(n_clusters=kclusters, random_state=0).fit(df_final)\n",
        "df_final['Cluster']=kmeans.labels_\n",
        "df_final['Cluster']=df_final['Cluster'].apply(str)\n",
        "\n",
        "print(tabulate(df_final,headers='keys',tablefmt='github'))"
      ],
      "metadata": {
        "colab": {
          "base_uri": "https://localhost:8080/"
        },
        "id": "T43J8GGuJ9ib",
        "outputId": "cc7de623-0961-4230-8d60-eea807e98b78"
      },
      "execution_count": null,
      "outputs": [
        {
          "output_type": "stream",
          "name": "stdout",
          "text": [
            "|    |   position.lat |   position.lng |   Cafes |   Gyms |   Cluster |\n",
            "|----|----------------|----------------|---------|--------|-----------|\n",
            "|  0 |        19.1255 |        72.9193 |       8 |     20 |         1 |\n",
            "|  1 |        19.1234 |        72.9127 |      20 |     20 |         2 |\n",
            "|  2 |        19.1193 |        72.9123 |      19 |     20 |         2 |\n",
            "|  3 |        19.1175 |        72.8837 |       9 |     20 |         1 |\n",
            "|  4 |        19.1627 |        72.9329 |       3 |      7 |         0 |\n",
            "|  5 |        19.096  |        72.9136 |      13 |     16 |         2 |\n",
            "|  6 |        19.1117 |        72.8751 |      17 |     20 |         2 |\n",
            "|  7 |        19.1665 |        72.9558 |       5 |     20 |         1 |\n",
            "|  8 |        19.0781 |        72.9117 |      15 |     20 |         2 |\n",
            "|  9 |        19.1718 |        72.9557 |       6 |     20 |         1 |\n",
            "| 10 |        19.1628 |        72.8579 |       5 |     16 |         1 |\n",
            "| 11 |        19.124  |        72.8468 |      11 |     20 |         1 |\n",
            "| 12 |        19.1462 |        72.8459 |       3 |      9 |         0 |\n",
            "| 13 |        19.1078 |        72.8491 |      15 |     20 |         2 |\n",
            "| 14 |        19.0962 |        72.8542 |      14 |     16 |         2 |\n",
            "| 15 |        19.0644 |        72.9185 |       1 |     14 |         0 |\n",
            "| 16 |        19.1019 |        72.8455 |      20 |     20 |         2 |\n",
            "| 17 |        19.1489 |        72.8393 |      17 |     20 |         2 |\n",
            "| 18 |        19.1489 |        72.839  |      17 |     20 |         2 |\n",
            "| 19 |        19.1251 |        72.9898 |       1 |      3 |         0 |\n"
          ]
        },
        {
          "output_type": "stream",
          "name": "stderr",
          "text": [
            "/usr/local/lib/python3.7/dist-packages/ipykernel_launcher.py:4: SettingWithCopyWarning: \n",
            "A value is trying to be set on a copy of a slice from a DataFrame.\n",
            "Try using .loc[row_indexer,col_indexer] = value instead\n",
            "\n",
            "See the caveats in the documentation: https://pandas.pydata.org/pandas-docs/stable/user_guide/indexing.html#returning-a-view-versus-a-copy\n",
            "  after removing the cwd from sys.path.\n",
            "/usr/local/lib/python3.7/dist-packages/ipykernel_launcher.py:5: SettingWithCopyWarning: \n",
            "A value is trying to be set on a copy of a slice from a DataFrame.\n",
            "Try using .loc[row_indexer,col_indexer] = value instead\n",
            "\n",
            "See the caveats in the documentation: https://pandas.pydata.org/pandas-docs/stable/user_guide/indexing.html#returning-a-view-versus-a-copy\n",
            "  \"\"\"\n"
          ]
        }
      ]
    },
    {
      "cell_type": "code",
      "source": [
        "#Plotting clustered locations on map using Folium\n",
        "\n",
        "#define coordinates of the college\n",
        "map_bom=folium.Map(location=[19.1334,72.9133],zoom_start=12)\n",
        "\n",
        "# instantiate a feature group for the incidents in the dataframe\n",
        "locations = folium.map.FeatureGroup()\n",
        "\n",
        "# set color scheme for the clusters\n",
        "def color_producer(cluster):\n",
        "    if cluster=='0':\n",
        "        return 'green'\n",
        "    elif cluster=='1':\n",
        "        return 'orange'\n",
        "    else:\n",
        "        return 'red'\n",
        "\n",
        "latitudes = list(df_final['position.lat'])\n",
        "longitudes = list(df_final['position.lng'])\n",
        "labels = list(df_final['Cluster'])\n",
        "names=list(d2['title'])\n",
        "for lat, lng, label,names in zip(latitudes, longitudes, labels,names):\n",
        "    folium.CircleMarker(\n",
        "            [lat,lng],\n",
        "            fill=True,\n",
        "            fill_opacity=1,\n",
        "            popup=folium.Popup(names, max_width = 300),\n",
        "            radius=5,\n",
        "            color=color_producer(label)\n",
        "        ).add_to(map_bom)\n"
      ],
      "metadata": {
        "id": "CnxR496KKBMT"
      },
      "execution_count": null,
      "outputs": []
    },
    {
      "cell_type": "code",
      "source": [
        "map_bom.add_child(locations)\n",
        "folium.Marker([19.1334,72.9133],popup='IIT Bombay').add_to(map_bom)\n",
        "\n",
        "#saving the map \n",
        "map_bom.save(\"map-IITBombay.html\")"
      ],
      "metadata": {
        "id": "APH1K2I6KE6U"
      },
      "execution_count": null,
      "outputs": []
    }
  ],
  "metadata": {
    "kernelspec": {
      "display_name": "Python 3",
      "language": "python",
      "name": "python3"
    },
    "language_info": {
      "codemirror_mode": {
        "name": "ipython",
        "version": 3
      },
      "file_extension": ".py",
      "mimetype": "text/x-python",
      "name": "python",
      "nbconvert_exporter": "python",
      "pygments_lexer": "ipython3",
      "version": "3.7.6"
    },
    "colab": {
      "name": "dataanalysis-internship.ipynb",
      "provenance": [],
      "collapsed_sections": []
    }
  },
  "nbformat": 4,
  "nbformat_minor": 0
}